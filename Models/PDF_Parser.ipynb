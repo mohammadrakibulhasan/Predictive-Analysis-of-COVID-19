{
 "cells": [
  {
   "cell_type": "code",
   "execution_count": 5,
   "metadata": {},
   "outputs": [
    {
     "name": "stdout",
     "output_type": "stream",
     "text": [
      "Latest available PDF is: Case_dist_6_June_upload.pdf\n",
      "Downloading PDF as: Case_dist_6_June_upload.pdf\n",
      "Converting to Case_dist_6_June_upload_Bangladesh.csv\n",
      "Converting to Case_dist_6_June_upload_DHK.csv\n",
      "Done!\n"
     ]
    }
   ],
   "source": [
    "from bs4 import BeautifulSoup\n",
    "import urllib.request\n",
    "from datetime import datetime\n",
    "try:\n",
    "    import camelot\n",
    "except ImportError:\n",
    "    raise ImportError('Camelot not found. Try running \"pip3 install camelot-py[cv]\"')\n",
    "import pandas as pd\n",
    "from pathlib import Path\n",
    "\n",
    "url = \"https://www.iedcr.gov.bd/website/images/files/nCoV/\"\n",
    "resp = urllib.request.urlopen(url+\"?C=M;O=D\")\n",
    "soup = BeautifulSoup(resp, from_encoding=resp.info().get_param('charset'),features=\"lxml\")\n",
    "\n",
    "for link in soup.find_all('a', href=True):\n",
    "    x= link.get(\"href\").split(\"_\")\n",
    "    if x[0]==\"Case\":\n",
    "        fileUrl= url+ link.get(\"href\")\n",
    "        file = link.get(\"href\").split(\".\")\n",
    "        fileName = file[0]\n",
    "        fileLoc = str(fileName+\".pdf\")\n",
    "        print(\"Latest available PDF is: \"+fileLoc)\n",
    "        break\n",
    "\n",
    "if Path(fileLoc).is_file():\n",
    "    print(\"It already exists in the local machine. Program is quitting.\")\n",
    "else:\n",
    "    print(\"Downloading PDF as: \"+fileLoc)\n",
    "    urllib.request.urlretrieve(fileUrl,fileLoc)\n",
    "\n",
    "    csvNameBD = fileName+\"_Bangladesh\"+\".csv\"\n",
    "    csvNameDHK = fileName+\"_DHK\"+\".csv\"\n",
    "    print(\"Converting to \"+csvNameBD)\n",
    "\n",
    "    BDTables = camelot.read_pdf(fileLoc, pages = \"1\")\n",
    "    bdlist= []\n",
    "    for table in BDTables:\n",
    "        bdlist.append(table.df)\n",
    "    bddf = pd.concat(bdlist)\n",
    "    del bddf[0]\n",
    "    del bddf[3]\n",
    "    del bddf[4]\n",
    "    bddf = bddf.iloc[1:]\n",
    "    bddf = bddf.iloc[bddf[1].str.lower().argsort()]\n",
    "    bddf.to_csv(csvNameBD, index=False)\n",
    "\n",
    "    try:\n",
    "        DhakaTables = camelot.read_pdf(fileLoc, pages = \"2-end\")\n",
    "        print(\"Converting to \"+csvNameDHK)\n",
    "        dhklist= []\n",
    "        for table in DhakaTables:\n",
    "            dhklist.append(table.df)\n",
    "        dhkdf = pd.concat(dhklist) \n",
    "        dhkdf = dhkdf.iloc[dhkdf[0].str.lower().argsort()]\n",
    "        dhkdf.drop(dhkdf.loc[dhkdf[0]==\"Location\"].index, inplace=True)\n",
    "        dhkdf.to_csv(csvNameDHK, index=False)\n",
    "    except IndexError:\n",
    "        print(\"IEDCR didn't publish any data for DhakaCity today.\")\n",
    "\n",
    "    print(\"Done!\")"
   ]
  },
  {
   "cell_type": "code",
   "execution_count": null,
   "metadata": {},
   "outputs": [],
   "source": []
  }
 ],
 "metadata": {
  "kernelspec": {
   "display_name": "Python 3",
   "language": "python",
   "name": "python3"
  },
  "language_info": {
   "codemirror_mode": {
    "name": "ipython",
    "version": 3
   },
   "file_extension": ".py",
   "mimetype": "text/x-python",
   "name": "python",
   "nbconvert_exporter": "python",
   "pygments_lexer": "ipython3",
   "version": "3.7.7"
  }
 },
 "nbformat": 4,
 "nbformat_minor": 4
}
